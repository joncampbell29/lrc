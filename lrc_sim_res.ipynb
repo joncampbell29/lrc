{
 "cells": [
  {
   "cell_type": "code",
   "execution_count": 1,
   "metadata": {},
   "outputs": [],
   "source": [
    "from lrc_sim import simulate_lrc\n",
    "import pandas as pd\n",
    "import numpy as np\n",
    "import matplotlib.pyplot as plt\n",
    "import seaborn as sns"
   ]
  },
  {
   "cell_type": "code",
   "execution_count": 2,
   "metadata": {},
   "outputs": [
    {
     "name": "stderr",
     "output_type": "stream",
     "text": [
      "100%|██████████| 100000/100000 [00:05<00:00, 19892.80it/s]\n",
      "100%|██████████| 100000/100000 [00:00<00:00, 108442.41it/s]\n",
      "100%|██████████| 100000/100000 [00:01<00:00, 78985.92it/s]\n",
      "100%|██████████| 100000/100000 [00:01<00:00, 63108.19it/s]\n",
      "100%|██████████| 100000/100000 [00:04<00:00, 22582.26it/s]\n",
      "100%|██████████| 100000/100000 [00:05<00:00, 17639.44it/s]\n",
      "100%|██████████| 100000/100000 [00:06<00:00, 15314.88it/s]\n",
      "100%|██████████| 100000/100000 [00:07<00:00, 13978.81it/s]\n",
      "100%|██████████| 100000/100000 [00:07<00:00, 12579.35it/s]\n",
      "100%|██████████| 100000/100000 [00:08<00:00, 11583.12it/s]\n",
      "100%|██████████| 100000/100000 [00:09<00:00, 10775.79it/s]\n",
      "100%|██████████| 100000/100000 [00:09<00:00, 10131.64it/s]\n",
      "100%|██████████| 100000/100000 [00:11<00:00, 8997.45it/s]\n",
      "100%|██████████| 100000/100000 [00:13<00:00, 7543.76it/s]\n",
      "100%|██████████| 100000/100000 [00:05<00:00, 17600.73it/s]\n",
      "100%|██████████| 100000/100000 [00:04<00:00, 21584.26it/s]\n",
      "100%|██████████| 100000/100000 [00:04<00:00, 20343.36it/s]\n",
      "100%|██████████| 100000/100000 [00:05<00:00, 18806.51it/s]\n",
      "100%|██████████| 100000/100000 [00:05<00:00, 18197.51it/s]\n"
     ]
    }
   ],
   "source": [
    "results = []\n",
    "for num_players in range(2,21):\n",
    "    data = simulate_lrc(num_people=num_players,starting_cash=3,num_dice=3,num_sims=100_000)\n",
    "    results.append(data)"
   ]
  },
  {
   "cell_type": "code",
   "execution_count": 4,
   "metadata": {},
   "outputs": [],
   "source": [
    "df = pd.json_normalize(results)[['num_players','win_pct','expected_earnings','player_id']] \\\n",
    "    .explode(['win_pct', 'expected_earnings', 'player_id'], ignore_index=True)\n",
    "df = df.astype({'num_players': 'int32', 'player_id': 'int32', \n",
    "                'win_pct': 'float64', 'expected_earnings': 'float64'})\n",
    "df['win_pct'] = df['win_pct'] * 100\n",
    "df['expected_earnings'] = df['expected_earnings'].round(2)"
   ]
  },
  {
   "cell_type": "code",
   "execution_count": null,
   "metadata": {},
   "outputs": [],
   "source": [
    "heatmap_data_earnings = df.pivot(index='num_players', columns='player_id', values='expected_earnings')\n",
    "heatmap_data_winpct = df.pivot(index='num_players', columns='player_id', values='win_pct')\n",
    "heatmap_data_earnings.to_csv('heatmap_data_earnings.csv')\n",
    "heatmap_data_winpct.to_csv('heatmap_data_winpct.csv')"
   ]
  }
 ],
 "metadata": {
  "kernelspec": {
   "display_name": "base",
   "language": "python",
   "name": "python3"
  },
  "language_info": {
   "codemirror_mode": {
    "name": "ipython",
    "version": 3
   },
   "file_extension": ".py",
   "mimetype": "text/x-python",
   "name": "python",
   "nbconvert_exporter": "python",
   "pygments_lexer": "ipython3",
   "version": "3.12.3"
  }
 },
 "nbformat": 4,
 "nbformat_minor": 2
}
